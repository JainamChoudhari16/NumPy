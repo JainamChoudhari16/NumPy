{
  "nbformat": 4,
  "nbformat_minor": 0,
  "metadata": {
    "colab": {
      "provenance": [],
      "collapsed_sections": [
        "Th1DYM9vo2I7",
        "5HlRuqYIok8B"
      ],
      "authorship_tag": "ABX9TyPGihAMQ9n+C8I8d40yXKZX",
      "include_colab_link": true
    },
    "kernelspec": {
      "name": "python3",
      "display_name": "Python 3"
    },
    "language_info": {
      "name": "python"
    }
  },
  "cells": [
    {
      "cell_type": "markdown",
      "metadata": {
        "id": "view-in-github",
        "colab_type": "text"
      },
      "source": [
        "<a href=\"https://colab.research.google.com/github/JainamChoudhari16/NumPy/blob/main/Numpy_practice.ipynb\" target=\"_parent\"><img src=\"https://colab.research.google.com/assets/colab-badge.svg\" alt=\"Open In Colab\"/></a>"
      ]
    },
    {
      "cell_type": "code",
      "source": [
        "import numpy as np"
      ],
      "metadata": {
        "id": "V7PaX3yBpFOk"
      },
      "execution_count": 1,
      "outputs": []
    },
    {
      "cell_type": "markdown",
      "source": [
        "## ***1D Array:***"
      ],
      "metadata": {
        "id": "Th1DYM9vo2I7"
      }
    },
    {
      "cell_type": "code",
      "source": [
        "a = np.array([1,2,3,4,5])"
      ],
      "metadata": {
        "id": "q-yfXWsUpDbr"
      },
      "execution_count": 2,
      "outputs": []
    },
    {
      "cell_type": "code",
      "execution_count": 3,
      "metadata": {
        "colab": {
          "base_uri": "https://localhost:8080/"
        },
        "id": "VyK8lVyIORIG",
        "outputId": "99cd605d-4849-4d61-f749-c034d5856e0c"
      },
      "outputs": [
        {
          "output_type": "execute_result",
          "data": {
            "text/plain": [
              "array([1, 2, 3, 4, 5])"
            ]
          },
          "metadata": {},
          "execution_count": 3
        }
      ],
      "source": [
        "a"
      ]
    },
    {
      "cell_type": "code",
      "source": [
        "a.ndim #printing dimension of the array"
      ],
      "metadata": {
        "id": "rQtihSwBO8aL",
        "colab": {
          "base_uri": "https://localhost:8080/"
        },
        "outputId": "bd40b40e-b7d4-427c-92a8-748129f4efcb"
      },
      "execution_count": 4,
      "outputs": [
        {
          "output_type": "execute_result",
          "data": {
            "text/plain": [
              "1"
            ]
          },
          "metadata": {},
          "execution_count": 4
        }
      ]
    },
    {
      "cell_type": "code",
      "source": [
        "a[0] #printing element using array indexing"
      ],
      "metadata": {
        "id": "oVKNSNy1O_a8",
        "colab": {
          "base_uri": "https://localhost:8080/"
        },
        "outputId": "55ed72d3-8609-4c21-e325-f3a9a7a8cbef"
      },
      "execution_count": 5,
      "outputs": [
        {
          "output_type": "execute_result",
          "data": {
            "text/plain": [
              "1"
            ]
          },
          "metadata": {},
          "execution_count": 5
        }
      ]
    },
    {
      "cell_type": "code",
      "source": [
        "type(a)"
      ],
      "metadata": {
        "colab": {
          "base_uri": "https://localhost:8080/"
        },
        "id": "nSZyTMwAPRvj",
        "outputId": "5bd988de-4dd5-47c0-897b-2fb55009581b"
      },
      "execution_count": 6,
      "outputs": [
        {
          "output_type": "execute_result",
          "data": {
            "text/plain": [
              "numpy.ndarray"
            ]
          },
          "metadata": {},
          "execution_count": 6
        }
      ]
    },
    {
      "cell_type": "code",
      "source": [
        "a[0:-1:3] #printing sub-array using array slicing"
      ],
      "metadata": {
        "colab": {
          "base_uri": "https://localhost:8080/"
        },
        "id": "Wlzc0xToPS4z",
        "outputId": "be6a25d5-3d61-4d0b-ed3d-7cf0c927664f"
      },
      "execution_count": 7,
      "outputs": [
        {
          "output_type": "execute_result",
          "data": {
            "text/plain": [
              "array([1, 4])"
            ]
          },
          "metadata": {},
          "execution_count": 7
        }
      ]
    },
    {
      "cell_type": "code",
      "source": [
        "a[3]"
      ],
      "metadata": {
        "colab": {
          "base_uri": "https://localhost:8080/"
        },
        "id": "3zkJd_JcPdMr",
        "outputId": "e755013f-d3e3-47d6-c296-182bdd1457ab"
      },
      "execution_count": 8,
      "outputs": [
        {
          "output_type": "execute_result",
          "data": {
            "text/plain": [
              "4"
            ]
          },
          "metadata": {},
          "execution_count": 8
        }
      ]
    },
    {
      "cell_type": "code",
      "source": [
        "a.sum() #printing sum of all elements"
      ],
      "metadata": {
        "colab": {
          "base_uri": "https://localhost:8080/"
        },
        "id": "ESv0ZHjGPssC",
        "outputId": "9765c198-cf83-4b22-a718-90b48b747e04"
      },
      "execution_count": 9,
      "outputs": [
        {
          "output_type": "execute_result",
          "data": {
            "text/plain": [
              "15"
            ]
          },
          "metadata": {},
          "execution_count": 9
        }
      ]
    },
    {
      "cell_type": "code",
      "source": [
        "a[3] = 50 #changing element of an array"
      ],
      "metadata": {
        "id": "zxI79b-gz3mv"
      },
      "execution_count": 10,
      "outputs": []
    },
    {
      "cell_type": "code",
      "source": [
        "a[1:5] = 7,8,9,10 #changing a part of array at a time using slicing"
      ],
      "metadata": {
        "id": "J0_saj5Qz9FP"
      },
      "execution_count": 11,
      "outputs": []
    },
    {
      "cell_type": "code",
      "source": [
        "a"
      ],
      "metadata": {
        "colab": {
          "base_uri": "https://localhost:8080/"
        },
        "id": "dxzIBrtc0PIS",
        "outputId": "0f1eb67c-fae6-4f66-92bd-6a77000865eb"
      },
      "execution_count": 12,
      "outputs": [
        {
          "output_type": "execute_result",
          "data": {
            "text/plain": [
              "array([ 1,  7,  8,  9, 10])"
            ]
          },
          "metadata": {},
          "execution_count": 12
        }
      ]
    },
    {
      "cell_type": "code",
      "source": [
        "#Mathematical functions:\n",
        "a1 = np.array([1,2,3,4,5])\n",
        "a2 = np.array([4,9,16,25,36])\n",
        "print(np.add(a1,a2)) #adding arrays a1 & a2\n",
        "print(np.subtract(a2,a1)) #subtracting arrays a1 & a2\n",
        "print(np.sqrt(a1))\n",
        "print(np.sqrt(a2))"
      ],
      "metadata": {
        "colab": {
          "base_uri": "https://localhost:8080/"
        },
        "id": "c2KB4XRW8LKe",
        "outputId": "d8a9f87d-5f3f-4da5-c430-31d5148719ed"
      },
      "execution_count": 13,
      "outputs": [
        {
          "output_type": "stream",
          "name": "stdout",
          "text": [
            "[ 5 11 19 29 41]\n",
            "[ 3  7 13 21 31]\n",
            "[1.         1.41421356 1.73205081 2.         2.23606798]\n",
            "[2. 3. 4. 5. 6.]\n"
          ]
        }
      ]
    },
    {
      "cell_type": "markdown",
      "source": [
        "## ***2D Array: It is always collection of 1D arrays.***"
      ],
      "metadata": {
        "id": "5HlRuqYIok8B"
      }
    },
    {
      "cell_type": "code",
      "source": [
        "b = np.array([[1,2,3,4],[5,6,7,8],[9,10,11,12]])"
      ],
      "metadata": {
        "id": "CMoxPzdRoyfB"
      },
      "execution_count": 14,
      "outputs": []
    },
    {
      "cell_type": "code",
      "source": [
        "b"
      ],
      "metadata": {
        "colab": {
          "base_uri": "https://localhost:8080/"
        },
        "id": "6umHrsZwqcPl",
        "outputId": "33e3ae14-ae7a-4f5b-9a36-9d6374e79603"
      },
      "execution_count": 15,
      "outputs": [
        {
          "output_type": "execute_result",
          "data": {
            "text/plain": [
              "array([[ 1,  2,  3,  4],\n",
              "       [ 5,  6,  7,  8],\n",
              "       [ 9, 10, 11, 12]])"
            ]
          },
          "metadata": {},
          "execution_count": 15
        }
      ]
    },
    {
      "cell_type": "code",
      "source": [
        "b.ndim"
      ],
      "metadata": {
        "colab": {
          "base_uri": "https://localhost:8080/"
        },
        "id": "y2IjQWpmqeAl",
        "outputId": "9a2f2e1b-4fb8-4203-eada-ce1342c94f5d"
      },
      "execution_count": 16,
      "outputs": [
        {
          "output_type": "execute_result",
          "data": {
            "text/plain": [
              "2"
            ]
          },
          "metadata": {},
          "execution_count": 16
        }
      ]
    },
    {
      "cell_type": "code",
      "source": [
        "b[1] #printing specific row"
      ],
      "metadata": {
        "colab": {
          "base_uri": "https://localhost:8080/"
        },
        "id": "auQdvCyFqe4F",
        "outputId": "1177845a-e75d-4e98-db83-7123832e6ded"
      },
      "execution_count": 17,
      "outputs": [
        {
          "output_type": "execute_result",
          "data": {
            "text/plain": [
              "array([5, 6, 7, 8])"
            ]
          },
          "metadata": {},
          "execution_count": 17
        }
      ]
    },
    {
      "cell_type": "code",
      "source": [
        "b[:,0] #printing specific column"
      ],
      "metadata": {
        "colab": {
          "base_uri": "https://localhost:8080/"
        },
        "id": "cbxkLc80uaO3",
        "outputId": "f4a1d84f-ccf4-41ba-e9db-477391b8c48a"
      },
      "execution_count": 18,
      "outputs": [
        {
          "output_type": "execute_result",
          "data": {
            "text/plain": [
              "array([1, 5, 9])"
            ]
          },
          "metadata": {},
          "execution_count": 18
        }
      ]
    },
    {
      "cell_type": "code",
      "source": [
        "b[1,1] #printing an element using rows and columns"
      ],
      "metadata": {
        "colab": {
          "base_uri": "https://localhost:8080/"
        },
        "id": "0GKgGeZDqy6l",
        "outputId": "e70336fa-de5d-48ba-ffa0-e03f2436a593"
      },
      "execution_count": 19,
      "outputs": [
        {
          "output_type": "execute_result",
          "data": {
            "text/plain": [
              "6"
            ]
          },
          "metadata": {},
          "execution_count": 19
        }
      ]
    },
    {
      "cell_type": "code",
      "source": [
        "b[1,1].ndim"
      ],
      "metadata": {
        "colab": {
          "base_uri": "https://localhost:8080/"
        },
        "id": "YSHbsKg0q1Ql",
        "outputId": "524972c0-f8fe-4f5e-8acc-39f484bdbb70"
      },
      "execution_count": 20,
      "outputs": [
        {
          "output_type": "execute_result",
          "data": {
            "text/plain": [
              "0"
            ]
          },
          "metadata": {},
          "execution_count": 20
        }
      ]
    },
    {
      "cell_type": "code",
      "source": [
        "b[1].ndim"
      ],
      "metadata": {
        "colab": {
          "base_uri": "https://localhost:8080/"
        },
        "id": "Ubhi0NTXq8a5",
        "outputId": "785e5883-f5d1-4662-9e74-086969155a1b"
      },
      "execution_count": 21,
      "outputs": [
        {
          "output_type": "execute_result",
          "data": {
            "text/plain": [
              "1"
            ]
          },
          "metadata": {},
          "execution_count": 21
        }
      ]
    },
    {
      "cell_type": "code",
      "source": [
        "b.sum() #printing sum of all elements"
      ],
      "metadata": {
        "colab": {
          "base_uri": "https://localhost:8080/"
        },
        "id": "zvamt9uPq_oB",
        "outputId": "4c955489-fae3-45d1-89fa-eb4891804033"
      },
      "execution_count": 22,
      "outputs": [
        {
          "output_type": "execute_result",
          "data": {
            "text/plain": [
              "78"
            ]
          },
          "metadata": {},
          "execution_count": 22
        }
      ]
    },
    {
      "cell_type": "code",
      "source": [
        "b[:2,1:3] #printing specific sub-arrays using rows and columns slicing"
      ],
      "metadata": {
        "colab": {
          "base_uri": "https://localhost:8080/"
        },
        "id": "CII8f_FCrHCx",
        "outputId": "80adf293-fa93-466d-d7e1-6289ff74bde4"
      },
      "execution_count": 23,
      "outputs": [
        {
          "output_type": "execute_result",
          "data": {
            "text/plain": [
              "array([[2, 3],\n",
              "       [6, 7]])"
            ]
          },
          "metadata": {},
          "execution_count": 23
        }
      ]
    },
    {
      "cell_type": "code",
      "source": [
        "b[1][1] #printing element using only row slicing"
      ],
      "metadata": {
        "colab": {
          "base_uri": "https://localhost:8080/"
        },
        "id": "Jyn0o8hgrjJt",
        "outputId": "c00a54fb-840c-4f22-e735-17298dc002c5"
      },
      "execution_count": 24,
      "outputs": [
        {
          "output_type": "execute_result",
          "data": {
            "text/plain": [
              "6"
            ]
          },
          "metadata": {},
          "execution_count": 24
        }
      ]
    },
    {
      "cell_type": "code",
      "source": [
        "b[1][1:4] #printing sub-array using only row slicing"
      ],
      "metadata": {
        "colab": {
          "base_uri": "https://localhost:8080/"
        },
        "id": "TIgFshuqvXXV",
        "outputId": "e7128c2c-19ff-4999-a247-ffd7b5ce809d"
      },
      "execution_count": 25,
      "outputs": [
        {
          "output_type": "execute_result",
          "data": {
            "text/plain": [
              "array([6, 7, 8])"
            ]
          },
          "metadata": {},
          "execution_count": 25
        }
      ]
    },
    {
      "cell_type": "code",
      "source": [
        "b[:,1][1] #printing element using only column slicing"
      ],
      "metadata": {
        "colab": {
          "base_uri": "https://localhost:8080/"
        },
        "id": "8E7HjQHPvk5f",
        "outputId": "c62b7efb-2a01-4ba1-ce9a-d5f403df6d24"
      },
      "execution_count": 26,
      "outputs": [
        {
          "output_type": "execute_result",
          "data": {
            "text/plain": [
              "6"
            ]
          },
          "metadata": {},
          "execution_count": 26
        }
      ]
    },
    {
      "cell_type": "code",
      "source": [
        "b[:,1][1:4] #printing sub-array using only column slicing"
      ],
      "metadata": {
        "colab": {
          "base_uri": "https://localhost:8080/"
        },
        "id": "JcZWh0dJvymt",
        "outputId": "e817fb2e-8169-43c2-8339-0e40120e53fc"
      },
      "execution_count": 27,
      "outputs": [
        {
          "output_type": "execute_result",
          "data": {
            "text/plain": [
              "array([ 6, 10])"
            ]
          },
          "metadata": {},
          "execution_count": 27
        }
      ]
    },
    {
      "cell_type": "code",
      "source": [
        "b[::2,::3] #printing corner elements of 2D array using row & column slicing"
      ],
      "metadata": {
        "colab": {
          "base_uri": "https://localhost:8080/"
        },
        "id": "UMBAL0f6v2zN",
        "outputId": "1b4e9330-f470-4c16-988f-46417ef8789d"
      },
      "execution_count": 28,
      "outputs": [
        {
          "output_type": "execute_result",
          "data": {
            "text/plain": [
              "array([[ 1,  4],\n",
              "       [ 9, 12]])"
            ]
          },
          "metadata": {},
          "execution_count": 28
        }
      ]
    },
    {
      "cell_type": "code",
      "source": [
        "b.shape #printing no. of rows & columns\n",
        "#Everytime the product of outcome will be equal to no. of elements in the whole array i.e 3*4=12"
      ],
      "metadata": {
        "colab": {
          "base_uri": "https://localhost:8080/"
        },
        "id": "y0-lXC5JwkgE",
        "outputId": "4bbd9ef1-9864-4b26-ee47-0ef25c36f3c7"
      },
      "execution_count": 29,
      "outputs": [
        {
          "output_type": "execute_result",
          "data": {
            "text/plain": [
              "(3, 4)"
            ]
          },
          "metadata": {},
          "execution_count": 29
        }
      ]
    },
    {
      "cell_type": "code",
      "source": [
        "b.ravel() #printing all elements in 1D array"
      ],
      "metadata": {
        "colab": {
          "base_uri": "https://localhost:8080/"
        },
        "id": "pUCe9WJZxMlt",
        "outputId": "e24767b3-2f4d-42b2-a9a1-fb1fe2750414"
      },
      "execution_count": 30,
      "outputs": [
        {
          "output_type": "execute_result",
          "data": {
            "text/plain": [
              "array([ 1,  2,  3,  4,  5,  6,  7,  8,  9, 10, 11, 12])"
            ]
          },
          "metadata": {},
          "execution_count": 30
        }
      ]
    },
    {
      "cell_type": "code",
      "source": [
        "b.size #printing number of elements in the 2D array"
      ],
      "metadata": {
        "id": "zefzMUSlztkU",
        "colab": {
          "base_uri": "https://localhost:8080/"
        },
        "outputId": "cd808d0c-16af-46e0-c3e0-2b521997ca1d"
      },
      "execution_count": 31,
      "outputs": [
        {
          "output_type": "execute_result",
          "data": {
            "text/plain": [
              "12"
            ]
          },
          "metadata": {},
          "execution_count": 31
        }
      ]
    },
    {
      "cell_type": "code",
      "source": [
        "len(b) #printing number of 1D arrays in 2D array"
      ],
      "metadata": {
        "colab": {
          "base_uri": "https://localhost:8080/"
        },
        "id": "KcTms6_ZcVqC",
        "outputId": "cbd27e5d-9b9b-47eb-abbb-787dc8d02690"
      },
      "execution_count": 32,
      "outputs": [
        {
          "output_type": "execute_result",
          "data": {
            "text/plain": [
              "3"
            ]
          },
          "metadata": {},
          "execution_count": 32
        }
      ]
    },
    {
      "cell_type": "code",
      "source": [
        "#Reshape converts an N-D array into another N-D array. Eg: 2D-->4D,3D-->2D,etc.\n",
        "#for 2D array size=rows*columns\n",
        "b.reshape(6,2) #Here the number of elements remains same but the size of rows & columns changes"
      ],
      "metadata": {
        "colab": {
          "base_uri": "https://localhost:8080/"
        },
        "id": "T0fa1l_hczDj",
        "outputId": "6f5fdbd1-d82a-4609-e010-827fea6d0ef4"
      },
      "execution_count": 33,
      "outputs": [
        {
          "output_type": "execute_result",
          "data": {
            "text/plain": [
              "array([[ 1,  2],\n",
              "       [ 3,  4],\n",
              "       [ 5,  6],\n",
              "       [ 7,  8],\n",
              "       [ 9, 10],\n",
              "       [11, 12]])"
            ]
          },
          "metadata": {},
          "execution_count": 33
        }
      ]
    },
    {
      "cell_type": "code",
      "source": [
        "#np.arange(stop) by default start = 0 & step = 1\n",
        "np.arange(8) #creates array of size 8 by default starts from 0 to n-1 where n is size of array specified"
      ],
      "metadata": {
        "colab": {
          "base_uri": "https://localhost:8080/"
        },
        "id": "muKoCY4DdQp0",
        "outputId": "3879db16-e957-41f1-8e2a-cf5975c0ae94"
      },
      "execution_count": 34,
      "outputs": [
        {
          "output_type": "execute_result",
          "data": {
            "text/plain": [
              "array([0, 1, 2, 3, 4, 5, 6, 7])"
            ]
          },
          "metadata": {},
          "execution_count": 34
        }
      ]
    },
    {
      "cell_type": "code",
      "source": [
        "#np.arange(start,stop,step)\n",
        "np.arange(8,16,2)"
      ],
      "metadata": {
        "colab": {
          "base_uri": "https://localhost:8080/"
        },
        "id": "J_5OckaRde_c",
        "outputId": "34286bf9-00de-4fca-dd5b-3e6de9323848"
      },
      "execution_count": 35,
      "outputs": [
        {
          "output_type": "execute_result",
          "data": {
            "text/plain": [
              "array([ 8, 10, 12, 14])"
            ]
          },
          "metadata": {},
          "execution_count": 35
        }
      ]
    },
    {
      "cell_type": "code",
      "source": [
        "#creating 2D array with 3 rows and 5 columns of 15 elements\n",
        "np.arange(15).reshape(3,5)"
      ],
      "metadata": {
        "colab": {
          "base_uri": "https://localhost:8080/"
        },
        "id": "y3u-bgO4fXkX",
        "outputId": "0279e6f6-a852-4ca6-c7b4-4ce51e95426d"
      },
      "execution_count": 36,
      "outputs": [
        {
          "output_type": "execute_result",
          "data": {
            "text/plain": [
              "array([[ 0,  1,  2,  3,  4],\n",
              "       [ 5,  6,  7,  8,  9],\n",
              "       [10, 11, 12, 13, 14]])"
            ]
          },
          "metadata": {},
          "execution_count": 36
        }
      ]
    },
    {
      "cell_type": "markdown",
      "source": [
        "## ***3D Array: It is always collection of 2D arrays.***"
      ],
      "metadata": {
        "id": "yxujf0-OgvW-"
      }
    },
    {
      "cell_type": "code",
      "source": [
        "c = np.array([[[1,2,3],[4,5,6]],[[7,8,9],[10,11,12]]])"
      ],
      "metadata": {
        "id": "JXz3b1U0g6EL"
      },
      "execution_count": 37,
      "outputs": []
    },
    {
      "cell_type": "code",
      "source": [
        "c"
      ],
      "metadata": {
        "colab": {
          "base_uri": "https://localhost:8080/"
        },
        "id": "Ys29dkLJh28o",
        "outputId": "29734ea3-9af7-4bb0-cb58-b9efc85bbf70"
      },
      "execution_count": 38,
      "outputs": [
        {
          "output_type": "execute_result",
          "data": {
            "text/plain": [
              "array([[[ 1,  2,  3],\n",
              "        [ 4,  5,  6]],\n",
              "\n",
              "       [[ 7,  8,  9],\n",
              "        [10, 11, 12]]])"
            ]
          },
          "metadata": {},
          "execution_count": 38
        }
      ]
    },
    {
      "cell_type": "code",
      "source": [
        "c.ndim"
      ],
      "metadata": {
        "colab": {
          "base_uri": "https://localhost:8080/"
        },
        "id": "9FqqHDE9iNAz",
        "outputId": "a81f562b-4983-4a36-b15b-71fd6133b1e6"
      },
      "execution_count": 39,
      "outputs": [
        {
          "output_type": "execute_result",
          "data": {
            "text/plain": [
              "3"
            ]
          },
          "metadata": {},
          "execution_count": 39
        }
      ]
    },
    {
      "cell_type": "code",
      "source": [
        "c[0] #printing 1st 2D array from 3D array."
      ],
      "metadata": {
        "colab": {
          "base_uri": "https://localhost:8080/"
        },
        "id": "90uWGFP5iZAL",
        "outputId": "9673484a-621e-4ed3-9c97-b4e1a707aea9"
      },
      "execution_count": 40,
      "outputs": [
        {
          "output_type": "execute_result",
          "data": {
            "text/plain": [
              "array([[1, 2, 3],\n",
              "       [4, 5, 6]])"
            ]
          },
          "metadata": {},
          "execution_count": 40
        }
      ]
    },
    {
      "cell_type": "code",
      "source": [
        "c[0][0] #printing 1st 1D array of 1st 2D array."
      ],
      "metadata": {
        "colab": {
          "base_uri": "https://localhost:8080/"
        },
        "id": "PDsm80xzidrL",
        "outputId": "d58864c3-999c-44b5-a888-62bb753ae1e0"
      },
      "execution_count": 41,
      "outputs": [
        {
          "output_type": "execute_result",
          "data": {
            "text/plain": [
              "array([1, 2, 3])"
            ]
          },
          "metadata": {},
          "execution_count": 41
        }
      ]
    },
    {
      "cell_type": "code",
      "source": [
        "c[1][0][1] #printing specific element using indexing"
      ],
      "metadata": {
        "colab": {
          "base_uri": "https://localhost:8080/"
        },
        "id": "7pXq3LtciugK",
        "outputId": "4515da18-d2fc-4c80-e459-ec4e7faad3df"
      },
      "execution_count": 42,
      "outputs": [
        {
          "output_type": "execute_result",
          "data": {
            "text/plain": [
              "8"
            ]
          },
          "metadata": {},
          "execution_count": 42
        }
      ]
    },
    {
      "cell_type": "code",
      "source": [
        "c[1][:,1:3] #printing specific sub-array using slicing but following sub-array is 2D array because of 2 square brackets"
      ],
      "metadata": {
        "colab": {
          "base_uri": "https://localhost:8080/"
        },
        "id": "omlzuBdnjAqD",
        "outputId": "a4864da8-f9d0-4830-fac8-36f94c0292fb"
      },
      "execution_count": 43,
      "outputs": [
        {
          "output_type": "execute_result",
          "data": {
            "text/plain": [
              "array([[ 8,  9],\n",
              "       [11, 12]])"
            ]
          },
          "metadata": {},
          "execution_count": 43
        }
      ]
    },
    {
      "cell_type": "code",
      "source": [
        "#printing specifi sub-array using slicing but in 3D array\n",
        "c[1:2,:1] #1:2 is for slicing 3D array & :1 is for slicing 2D array in that particular 3D array."
      ],
      "metadata": {
        "colab": {
          "base_uri": "https://localhost:8080/"
        },
        "id": "MENqfCuDjokD",
        "outputId": "ad0e16a2-9e7b-4006-a53b-996bdf1e2b13"
      },
      "execution_count": 44,
      "outputs": [
        {
          "output_type": "execute_result",
          "data": {
            "text/plain": [
              "array([[[7, 8, 9]]])"
            ]
          },
          "metadata": {},
          "execution_count": 44
        }
      ]
    },
    {
      "cell_type": "code",
      "source": [
        "c[1:2,:,::2] #printing corners elements of 2nd 2D array\n",
        "#Here, first 1:2 is for selecting 2nd 2D array then in that : is selecting both the rows of that 2D array & ::2 is for selecting first and last column of that 2D array."
      ],
      "metadata": {
        "colab": {
          "base_uri": "https://localhost:8080/"
        },
        "id": "6rLUUTKwkKl4",
        "outputId": "0fca4aee-635e-434b-ec4a-bcf94578b9de"
      },
      "execution_count": 45,
      "outputs": [
        {
          "output_type": "execute_result",
          "data": {
            "text/plain": [
              "array([[[ 7,  9],\n",
              "        [10, 12]]])"
            ]
          },
          "metadata": {},
          "execution_count": 45
        }
      ]
    },
    {
      "cell_type": "code",
      "source": [
        "#printing first and last element of 2nd 1D array of both the 2D arrays. i.e. [[[4.6],[10,12]]]\n",
        "c[:,1:2,::2]"
      ],
      "metadata": {
        "colab": {
          "base_uri": "https://localhost:8080/"
        },
        "id": "pDWWwUWdlfUH",
        "outputId": "004f22c3-d420-4345-fe88-849660e93509"
      },
      "execution_count": 46,
      "outputs": [
        {
          "output_type": "execute_result",
          "data": {
            "text/plain": [
              "array([[[ 4,  6]],\n",
              "\n",
              "       [[10, 12]]])"
            ]
          },
          "metadata": {},
          "execution_count": 46
        }
      ]
    },
    {
      "cell_type": "code",
      "source": [
        "c.sum()"
      ],
      "metadata": {
        "colab": {
          "base_uri": "https://localhost:8080/"
        },
        "id": "VRWU1iU1naeT",
        "outputId": "c823a9d9-29a4-43c8-9109-222f333a82d3"
      },
      "execution_count": 47,
      "outputs": [
        {
          "output_type": "execute_result",
          "data": {
            "text/plain": [
              "78"
            ]
          },
          "metadata": {},
          "execution_count": 47
        }
      ]
    },
    {
      "cell_type": "code",
      "source": [
        "c.shape #prints shape of the array\n",
        "#Here 1st 2 is for no. of 2D arrays in 3D array, next 2 is for no. of rows in each 2D array and last 3 is for no. of columns in each 2D array\n",
        "#Everytime the product of outcome will be equal to no. of elements in the whole array i.e 2*2*3 = 12"
      ],
      "metadata": {
        "colab": {
          "base_uri": "https://localhost:8080/"
        },
        "id": "8U3QQBB5npCi",
        "outputId": "6eca1acd-1c04-432b-b166-61c999727341"
      },
      "execution_count": 48,
      "outputs": [
        {
          "output_type": "execute_result",
          "data": {
            "text/plain": [
              "(2, 2, 3)"
            ]
          },
          "metadata": {},
          "execution_count": 48
        }
      ]
    },
    {
      "cell_type": "code",
      "source": [
        "c.reshape(3,2,2) #changing the shape of the 3D array\n",
        "#for 3D array reshape(no. of 2D arrays,no. of rows of 2D arrays,no. of columns of 2D arrays)"
      ],
      "metadata": {
        "colab": {
          "base_uri": "https://localhost:8080/"
        },
        "id": "OVbPs8sPoNCQ",
        "outputId": "4d8c6c6f-be9f-4b5d-bb29-2bbc1e890bfb"
      },
      "execution_count": 49,
      "outputs": [
        {
          "output_type": "execute_result",
          "data": {
            "text/plain": [
              "array([[[ 1,  2],\n",
              "        [ 3,  4]],\n",
              "\n",
              "       [[ 5,  6],\n",
              "        [ 7,  8]],\n",
              "\n",
              "       [[ 9, 10],\n",
              "        [11, 12]]])"
            ]
          },
          "metadata": {},
          "execution_count": 49
        }
      ]
    },
    {
      "cell_type": "code",
      "source": [
        "#Creating a 3D array using arange and reshape functions.\n",
        "d = np.arange(1,46).reshape(5,3,3)\n",
        "d"
      ],
      "metadata": {
        "colab": {
          "base_uri": "https://localhost:8080/"
        },
        "id": "uou8lwUmoUsn",
        "outputId": "0bd40fe1-11b8-4372-ca9e-7fea66b41bf0"
      },
      "execution_count": 50,
      "outputs": [
        {
          "output_type": "execute_result",
          "data": {
            "text/plain": [
              "array([[[ 1,  2,  3],\n",
              "        [ 4,  5,  6],\n",
              "        [ 7,  8,  9]],\n",
              "\n",
              "       [[10, 11, 12],\n",
              "        [13, 14, 15],\n",
              "        [16, 17, 18]],\n",
              "\n",
              "       [[19, 20, 21],\n",
              "        [22, 23, 24],\n",
              "        [25, 26, 27]],\n",
              "\n",
              "       [[28, 29, 30],\n",
              "        [31, 32, 33],\n",
              "        [34, 35, 36]],\n",
              "\n",
              "       [[37, 38, 39],\n",
              "        [40, 41, 42],\n",
              "        [43, 44, 45]]])"
            ]
          },
          "metadata": {},
          "execution_count": 50
        }
      ]
    },
    {
      "cell_type": "code",
      "source": [
        "d.reshape(9,5) #converting a 3D array into 2D array with 9 rows and 5 columns."
      ],
      "metadata": {
        "colab": {
          "base_uri": "https://localhost:8080/"
        },
        "id": "1XH8YdWiqVWD",
        "outputId": "16f98a6d-1e19-411e-ebbd-3fb180a84255"
      },
      "execution_count": 51,
      "outputs": [
        {
          "output_type": "execute_result",
          "data": {
            "text/plain": [
              "array([[ 1,  2,  3,  4,  5],\n",
              "       [ 6,  7,  8,  9, 10],\n",
              "       [11, 12, 13, 14, 15],\n",
              "       [16, 17, 18, 19, 20],\n",
              "       [21, 22, 23, 24, 25],\n",
              "       [26, 27, 28, 29, 30],\n",
              "       [31, 32, 33, 34, 35],\n",
              "       [36, 37, 38, 39, 40],\n",
              "       [41, 42, 43, 44, 45]])"
            ]
          },
          "metadata": {},
          "execution_count": 51
        }
      ]
    },
    {
      "cell_type": "markdown",
      "source": [
        "## ***Statistical Functions:***"
      ],
      "metadata": {
        "id": "2-vio1VqDtC9"
      }
    },
    {
      "cell_type": "code",
      "source": [
        "#Statistical Functions on 1D array:\n",
        "a3 = [76, 78, 81, 66, 85]\n",
        "print(np.mean(a3)) #printing mean of values in array a3\n",
        "print(np.median(a3)) #printing meadian of values in array a3\n",
        "print(np.min(a3)) #printing minimum of values in array a3\n",
        "print(np.max(a3)) #printing maximum of values in array a3"
      ],
      "metadata": {
        "colab": {
          "base_uri": "https://localhost:8080/"
        },
        "id": "lXN9kqIvDxtR",
        "outputId": "06f22f90-7e93-48c4-9090-71c41ac9827c"
      },
      "execution_count": 52,
      "outputs": [
        {
          "output_type": "stream",
          "name": "stdout",
          "text": [
            "77.2\n",
            "78.0\n",
            "66\n",
            "85\n"
          ]
        }
      ]
    },
    {
      "cell_type": "code",
      "source": [
        "# compute the standard deviation of marks\n",
        "std_deviation = np.std(a3)\n",
        "print(std_deviation)"
      ],
      "metadata": {
        "colab": {
          "base_uri": "https://localhost:8080/"
        },
        "id": "zfjPuEW3GuV8",
        "outputId": "13869700-82be-4c9c-cc5b-fd8afddfabb6"
      },
      "execution_count": 53,
      "outputs": [
        {
          "output_type": "stream",
          "name": "stdout",
          "text": [
            "6.368673331236263\n"
          ]
        }
      ]
    },
    {
      "cell_type": "code",
      "source": [
        "#Statistical Functions on ND array:\n",
        "array1 = np.array([[2, 4, 6],\n",
        "                   [8, 10, 12],\n",
        "                   [14, 16, 18]])"
      ],
      "metadata": {
        "id": "un6MMdLr-O51"
      },
      "execution_count": 54,
      "outputs": []
    },
    {
      "cell_type": "code",
      "source": [
        "# compute median along horizontal axis(rows)\n",
        "result1 = np.median(array1, axis=1)\n",
        "print(\"Median along rows :\", result1)"
      ],
      "metadata": {
        "colab": {
          "base_uri": "https://localhost:8080/"
        },
        "id": "O7qBOMx6CyOh",
        "outputId": "89b28265-5201-4fd4-9467-c54005bbd5bc"
      },
      "execution_count": 55,
      "outputs": [
        {
          "output_type": "stream",
          "name": "stdout",
          "text": [
            "Median along rows : [ 4. 10. 16.]\n"
          ]
        }
      ]
    },
    {
      "cell_type": "code",
      "source": [
        "# compute median along vertical axis(columns)\n",
        "result2 = np.median(array1, axis=0)\n",
        "print(\"Median along columns:\", result2)"
      ],
      "metadata": {
        "colab": {
          "base_uri": "https://localhost:8080/"
        },
        "id": "_64x3B1QCyHe",
        "outputId": "5b90aed7-aaeb-436f-d715-b267a69ff746"
      },
      "execution_count": 56,
      "outputs": [
        {
          "output_type": "stream",
          "name": "stdout",
          "text": [
            "Median along columns: [ 8. 10. 12.]\n"
          ]
        }
      ]
    },
    {
      "cell_type": "code",
      "source": [
        "# compute median of entire array\n",
        "result3 = np.median(array1)\n",
        "print(\"Median of entire array:\", result3)"
      ],
      "metadata": {
        "colab": {
          "base_uri": "https://localhost:8080/"
        },
        "id": "kr-K-MdxCx7K",
        "outputId": "cb815996-d9a9-481f-f700-e232aaec7813"
      },
      "execution_count": 57,
      "outputs": [
        {
          "output_type": "stream",
          "name": "stdout",
          "text": [
            "Median of entire array: 10.0\n"
          ]
        }
      ]
    },
    {
      "cell_type": "code",
      "source": [
        "# calculate the mean of the entire array\n",
        "result1 = np.mean(array1)\n",
        "print(\"Entire Array:\",result1)"
      ],
      "metadata": {
        "colab": {
          "base_uri": "https://localhost:8080/"
        },
        "id": "dyAR5F-eEuqa",
        "outputId": "f3b303a4-53b3-485d-c198-34d5bffad5e0"
      },
      "execution_count": 58,
      "outputs": [
        {
          "output_type": "stream",
          "name": "stdout",
          "text": [
            "Entire Array: 10.0\n"
          ]
        }
      ]
    },
    {
      "cell_type": "code",
      "source": [
        "# calculate the mean along columns (axis=0)\n",
        "result2 = np.mean(array1, axis=0)\n",
        "print(\"Along columns:\",result2)"
      ],
      "metadata": {
        "colab": {
          "base_uri": "https://localhost:8080/"
        },
        "id": "0BuUrfITFTNM",
        "outputId": "b8e7fb3a-f038-4333-8c16-7ab2f8326af1"
      },
      "execution_count": 59,
      "outputs": [
        {
          "output_type": "stream",
          "name": "stdout",
          "text": [
            "Along columns: [ 8. 10. 12.]\n"
          ]
        }
      ]
    },
    {
      "cell_type": "code",
      "source": [
        "# calculate the mean along  rows(axis=1)\n",
        "result3 = np.mean(array1, axis=1)\n",
        "print(\"Along rows :\",result3)"
      ],
      "metadata": {
        "colab": {
          "base_uri": "https://localhost:8080/"
        },
        "id": "ycWD9_USFSuD",
        "outputId": "fde1649b-a4b4-4ff0-82ec-f0f9ef5b231c"
      },
      "execution_count": 60,
      "outputs": [
        {
          "output_type": "stream",
          "name": "stdout",
          "text": [
            "Along rows : [ 4. 10. 16.]\n"
          ]
        }
      ]
    },
    {
      "cell_type": "code",
      "source": [
        "# compute standard deviation along rows\n",
        "result1 = np.std(array1, axis=1)\n",
        "print(\"Standard deviation along horizontal axis:\", result1)"
      ],
      "metadata": {
        "colab": {
          "base_uri": "https://localhost:8080/"
        },
        "id": "2y4EXQTHHYL5",
        "outputId": "d9369787-d6f8-41c6-b233-35d45cbd2eb8"
      },
      "execution_count": 61,
      "outputs": [
        {
          "output_type": "stream",
          "name": "stdout",
          "text": [
            "Standard deviation along horizontal axis: [1.63299316 1.63299316 1.63299316]\n"
          ]
        }
      ]
    },
    {
      "cell_type": "code",
      "source": [
        "# compute standard deviation along columns\n",
        "result2 = np.std(array1, axis=0)\n",
        "print(\"Standard deviation  along vertical axis:\", result2)"
      ],
      "metadata": {
        "colab": {
          "base_uri": "https://localhost:8080/"
        },
        "id": "XvEFcwPKHg1d",
        "outputId": "bc7c3bca-5918-493a-de50-265c86b0c6b6"
      },
      "execution_count": 62,
      "outputs": [
        {
          "output_type": "stream",
          "name": "stdout",
          "text": [
            "Standard deviation  along vertical axis: [4.89897949 4.89897949 4.89897949]\n"
          ]
        }
      ]
    },
    {
      "cell_type": "code",
      "source": [
        "# compute standard deviation of entire array\n",
        "result3 = np.std(array1)\n",
        "print(\"Standard deviation of entire array:\", result3)"
      ],
      "metadata": {
        "colab": {
          "base_uri": "https://localhost:8080/"
        },
        "id": "jjCD8Kt_Hgmv",
        "outputId": "cf8389f0-7c35-496e-98d1-d050ed0254e6"
      },
      "execution_count": 63,
      "outputs": [
        {
          "output_type": "stream",
          "name": "stdout",
          "text": [
            "Standard deviation of entire array: 5.163977794943222\n"
          ]
        }
      ]
    },
    {
      "cell_type": "markdown",
      "source": [
        "## ***Numpy Array Input/Output Functions:***"
      ],
      "metadata": {
        "id": "OReEPAfq-RsF"
      }
    },
    {
      "cell_type": "code",
      "source": [
        "array1 = np.array([[1, 3, 5], [2, 4, 6]])"
      ],
      "metadata": {
        "id": "i7MVbxUd-bi8"
      },
      "execution_count": 64,
      "outputs": []
    },
    {
      "cell_type": "code",
      "source": [
        "# save the array to a text file\n",
        "np.savetxt('data.txt', array1)"
      ],
      "metadata": {
        "id": "9EYsqpQQ-geZ"
      },
      "execution_count": 65,
      "outputs": []
    },
    {
      "cell_type": "code",
      "source": [
        "# load the data from the text file\n",
        "loaded_data = np.loadtxt('/content/data.txt')"
      ],
      "metadata": {
        "id": "94NCSqLw-kpB"
      },
      "execution_count": 66,
      "outputs": []
    },
    {
      "cell_type": "code",
      "source": [
        "# print the loaded data\n",
        "print(loaded_data)"
      ],
      "metadata": {
        "colab": {
          "base_uri": "https://localhost:8080/"
        },
        "id": "YCOo-BZp-n3Z",
        "outputId": "e2b4b12e-f161-42e8-f292-fee1c101f00c"
      },
      "execution_count": 67,
      "outputs": [
        {
          "output_type": "stream",
          "name": "stdout",
          "text": [
            "[[1. 3. 5.]\n",
            " [2. 4. 6.]]\n"
          ]
        }
      ]
    },
    {
      "cell_type": "markdown",
      "source": [
        "## ***NumPy Comparison Operators***"
      ],
      "metadata": {
        "id": "ep981ZkY_AGL"
      }
    },
    {
      "cell_type": "code",
      "source": [
        "arr1 = np.array([9,12,21])\n",
        "arr2 = np.array([21,12,9])"
      ],
      "metadata": {
        "id": "Pcz6eYRC-5MR"
      },
      "execution_count": 68,
      "outputs": []
    },
    {
      "cell_type": "code",
      "source": [
        "# less than operator\n",
        "result1 = arr1 < arr2\n",
        "print(\"array1 < array2:\",result1)    # Output: [ True False False]"
      ],
      "metadata": {
        "colab": {
          "base_uri": "https://localhost:8080/"
        },
        "id": "Bx1mAlBE_SuJ",
        "outputId": "8b4584fd-7bf0-44cd-9781-7d25cc3461d4"
      },
      "execution_count": 69,
      "outputs": [
        {
          "output_type": "stream",
          "name": "stdout",
          "text": [
            "array1 < array2: [ True False False]\n"
          ]
        }
      ]
    },
    {
      "cell_type": "code",
      "source": [
        "# greater than operator\n",
        "result2 = arr1 > arr2\n",
        "print(\"array1 > array2:\",result2)    # Output: [False False  True]"
      ],
      "metadata": {
        "colab": {
          "base_uri": "https://localhost:8080/"
        },
        "id": "XsQyS-tw_WCp",
        "outputId": "5fe3f238-a870-49e6-8842-566d2cb888d6"
      },
      "execution_count": 70,
      "outputs": [
        {
          "output_type": "stream",
          "name": "stdout",
          "text": [
            "array1 > array2: [False False  True]\n"
          ]
        }
      ]
    },
    {
      "cell_type": "code",
      "source": [
        "# equal to operator\n",
        "result3 = arr1 == arr2\n",
        "print(\"array1 == array2:\",result3)    # Output: [False  True False]"
      ],
      "metadata": {
        "colab": {
          "base_uri": "https://localhost:8080/"
        },
        "id": "k37P7T9m_dI8",
        "outputId": "e34b73b4-9dd6-451b-aad3-08ce5ca61b62"
      },
      "execution_count": 71,
      "outputs": [
        {
          "output_type": "stream",
          "name": "stdout",
          "text": [
            "array1 == array2: [False  True False]\n"
          ]
        }
      ]
    },
    {
      "cell_type": "code",
      "source": [
        "# use of less()\n",
        "result = np.less(arr1, arr2)\n",
        "print(\"Using less():\",result)    # Output: [ True False False]"
      ],
      "metadata": {
        "colab": {
          "base_uri": "https://localhost:8080/"
        },
        "id": "IPszmZXZ_g1k",
        "outputId": "3e04873d-fc3b-4057-f5f8-75ba3a8bf0c1"
      },
      "execution_count": 72,
      "outputs": [
        {
          "output_type": "stream",
          "name": "stdout",
          "text": [
            "Using less(): [ True False False]\n"
          ]
        }
      ]
    },
    {
      "cell_type": "code",
      "source": [
        "# use of less_equal()\n",
        "result = np.less_equal(arr1, arr2)\n",
        "print(\"Using less_equal():\",result)     # Output: [ True  True False]"
      ],
      "metadata": {
        "colab": {
          "base_uri": "https://localhost:8080/"
        },
        "id": "oDguQ24B_5Bo",
        "outputId": "a5218bed-2f42-4e4b-eb51-a01f72761dc3"
      },
      "execution_count": 73,
      "outputs": [
        {
          "output_type": "stream",
          "name": "stdout",
          "text": [
            "Using less_equal(): [ True  True False]\n"
          ]
        }
      ]
    },
    {
      "cell_type": "code",
      "source": [
        "# use of greater()\n",
        "result = np.greater(arr1, arr2)\n",
        "print(\"Using greater():\",result)    # Output: [False False  True]"
      ],
      "metadata": {
        "colab": {
          "base_uri": "https://localhost:8080/"
        },
        "id": "JnGB43hEAAJA",
        "outputId": "a3488dab-01b2-4c61-98e2-9df743d0221c"
      },
      "execution_count": 74,
      "outputs": [
        {
          "output_type": "stream",
          "name": "stdout",
          "text": [
            "Using greater(): [False False  True]\n"
          ]
        }
      ]
    },
    {
      "cell_type": "code",
      "source": [
        "# use of greater_equal()\n",
        "result = np.greater_equal(arr1, arr2)\n",
        "print(\"Using greater_equal():\",result)    # Output: [False  True  True]"
      ],
      "metadata": {
        "colab": {
          "base_uri": "https://localhost:8080/"
        },
        "id": "ZH4mtCzSAEmZ",
        "outputId": "044471bf-fff8-4276-be25-746fbc3196be"
      },
      "execution_count": 75,
      "outputs": [
        {
          "output_type": "stream",
          "name": "stdout",
          "text": [
            "Using greater_equal(): [False  True  True]\n"
          ]
        }
      ]
    },
    {
      "cell_type": "code",
      "source": [
        "# use of equal()\n",
        "result = np.equal(arr1, arr2)\n",
        "print(\"Using equal():\",result)    # Output: [False  True False]"
      ],
      "metadata": {
        "colab": {
          "base_uri": "https://localhost:8080/"
        },
        "id": "WVqMgIwZAKM4",
        "outputId": "556df392-3890-4ba8-cf76-169efbdabef3"
      },
      "execution_count": 76,
      "outputs": [
        {
          "output_type": "stream",
          "name": "stdout",
          "text": [
            "Using equal(): [False  True False]\n"
          ]
        }
      ]
    },
    {
      "cell_type": "code",
      "source": [
        "# use of not_equal()\n",
        "result = np.not_equal(arr1, arr2)\n",
        "print(\"Using not_equal():\",result)    # Output: [ True False  True]"
      ],
      "metadata": {
        "colab": {
          "base_uri": "https://localhost:8080/"
        },
        "id": "xAVISHOHAQXw",
        "outputId": "ad4d6c3c-02f9-41d6-fc08-27c5ddea7162"
      },
      "execution_count": 77,
      "outputs": [
        {
          "output_type": "stream",
          "name": "stdout",
          "text": [
            "Using not_equal(): [ True False  True]\n"
          ]
        }
      ]
    },
    {
      "cell_type": "markdown",
      "source": [
        "## ***NumPy Logical Operations***"
      ],
      "metadata": {
        "id": "ylhCFMR7AWkp"
      }
    },
    {
      "cell_type": "code",
      "source": [
        "x1 = np.array([True, False, True])\n",
        "x2 = np.array([False, False, True])"
      ],
      "metadata": {
        "id": "Fa05ZcrqASDA"
      },
      "execution_count": 78,
      "outputs": []
    },
    {
      "cell_type": "code",
      "source": [
        "# Logical AND\n",
        "print(np.logical_and(x1, x2)) # Output: [False False  True]"
      ],
      "metadata": {
        "colab": {
          "base_uri": "https://localhost:8080/"
        },
        "id": "qjiSHBkAAfX3",
        "outputId": "3048a011-bb83-4450-cc0e-fc178aef6189"
      },
      "execution_count": 79,
      "outputs": [
        {
          "output_type": "stream",
          "name": "stdout",
          "text": [
            "[False False  True]\n"
          ]
        }
      ]
    },
    {
      "cell_type": "code",
      "source": [
        "# Logical OR\n",
        "print(np.logical_or(x1, x2)) # Output: [ True False  True]"
      ],
      "metadata": {
        "colab": {
          "base_uri": "https://localhost:8080/"
        },
        "id": "5VDgegBoAj7i",
        "outputId": "fb46fee9-c459-456f-f0c3-bc81881d9e9d"
      },
      "execution_count": 80,
      "outputs": [
        {
          "output_type": "stream",
          "name": "stdout",
          "text": [
            "[ True False  True]\n"
          ]
        }
      ]
    },
    {
      "cell_type": "code",
      "source": [
        "# Logical NOT\n",
        "print(np.logical_not(x1)) # Output: [False  True False]"
      ],
      "metadata": {
        "colab": {
          "base_uri": "https://localhost:8080/"
        },
        "id": "JtTnmzH6Al5w",
        "outputId": "e0d82996-fffc-4bb0-d9a5-cf25a24cf99b"
      },
      "execution_count": 81,
      "outputs": [
        {
          "output_type": "stream",
          "name": "stdout",
          "text": [
            "[False  True False]\n"
          ]
        }
      ]
    },
    {
      "cell_type": "markdown",
      "source": [
        "## ***Converting Angles into Radians and Degrees***"
      ],
      "metadata": {
        "id": "zQAXvp6GA2XF"
      }
    },
    {
      "cell_type": "code",
      "source": [
        "# define an angle in radians\n",
        "angle =  1.57079633\n",
        "print(\"Initial angle in radian:\", angle)"
      ],
      "metadata": {
        "colab": {
          "base_uri": "https://localhost:8080/"
        },
        "id": "n0jrFwz-AmaI",
        "outputId": "fbc03934-338d-4d2e-b86a-76d5bda666a0"
      },
      "execution_count": 82,
      "outputs": [
        {
          "output_type": "stream",
          "name": "stdout",
          "text": [
            "Initial angle in radian: 1.57079633\n"
          ]
        }
      ]
    },
    {
      "cell_type": "code",
      "source": [
        "# convert the angle to degrees\n",
        "angle_degree = np.degrees(angle)\n",
        "print(\"Angle in degrees:\", angle_degree)"
      ],
      "metadata": {
        "colab": {
          "base_uri": "https://localhost:8080/"
        },
        "id": "OZVfD_RdA_ag",
        "outputId": "e8148648-2751-45aa-c257-649204b946be"
      },
      "execution_count": 83,
      "outputs": [
        {
          "output_type": "stream",
          "name": "stdout",
          "text": [
            "Angle in degrees: 90.0000001836389\n"
          ]
        }
      ]
    },
    {
      "cell_type": "code",
      "source": [
        "# convert the angle back to radians\n",
        "angle_radian = np.radians(angle_degree)\n",
        "print(\"Angle in radians (after conversion):\", angle_radian)"
      ],
      "metadata": {
        "colab": {
          "base_uri": "https://localhost:8080/"
        },
        "id": "OohezRyYBBn5",
        "outputId": "30dcdfac-7f5a-44d5-e0d1-b732480dc36a"
      },
      "execution_count": 84,
      "outputs": [
        {
          "output_type": "stream",
          "name": "stdout",
          "text": [
            "Angle in radians (after conversion): 1.57079633\n"
          ]
        }
      ]
    },
    {
      "cell_type": "markdown",
      "source": [
        "## ***Rounding Functions***"
      ],
      "metadata": {
        "id": "0T4T8vlBBgHp"
      }
    },
    {
      "cell_type": "code",
      "source": [
        "numbers = np.array([1.23956, 2.34567, 3.45378, 4.56789])"
      ],
      "metadata": {
        "id": "h9lM_lSqBjVk"
      },
      "execution_count": 85,
      "outputs": []
    },
    {
      "cell_type": "code",
      "source": [
        "# round the array to two decimal places\n",
        "rounded_array = np.round(numbers, 2)\n",
        "print(rounded_array)"
      ],
      "metadata": {
        "colab": {
          "base_uri": "https://localhost:8080/"
        },
        "id": "kWz7XM40Brt-",
        "outputId": "0988a8ad-89b3-47af-c080-98a0f1ddcec0"
      },
      "execution_count": 86,
      "outputs": [
        {
          "output_type": "stream",
          "name": "stdout",
          "text": [
            "[1.24 2.35 3.45 4.57]\n"
          ]
        }
      ]
    },
    {
      "cell_type": "code",
      "source": [
        "print(\"Array after floor():\", np.floor(numbers))"
      ],
      "metadata": {
        "colab": {
          "base_uri": "https://localhost:8080/"
        },
        "id": "gDJFo4hiBuG1",
        "outputId": "f25dcf35-4cb4-41d7-ea3d-2d2fadda3181"
      },
      "execution_count": 87,
      "outputs": [
        {
          "output_type": "stream",
          "name": "stdout",
          "text": [
            "Array after floor(): [1. 2. 3. 4.]\n"
          ]
        }
      ]
    },
    {
      "cell_type": "code",
      "source": [
        "print(\"Array after ceil():\", np.ceil(numbers))"
      ],
      "metadata": {
        "colab": {
          "base_uri": "https://localhost:8080/"
        },
        "id": "aTNU4hIxB3vt",
        "outputId": "0970d58d-3522-467c-83ed-8311038c090f"
      },
      "execution_count": 88,
      "outputs": [
        {
          "output_type": "stream",
          "name": "stdout",
          "text": [
            "Array after ceil(): [2. 3. 4. 5.]\n"
          ]
        }
      ]
    },
    {
      "cell_type": "markdown",
      "source": [],
      "metadata": {
        "id": "FQVOR0IpQQSL"
      }
    },
    {
      "cell_type": "markdown",
      "source": [
        "## ***Numpy String Functions***"
      ],
      "metadata": {
        "id": "h0NlDOSJQRra"
      }
    },
    {
      "cell_type": "code",
      "source": [
        "array1 = np.array(['iPhone: ', 'price: '])\n",
        "array2 = np.array(['15', '$900'])\n",
        "# perform element-wise array string concatenation\n",
        "result = np.char.add(array1, array2)\n",
        "print(result)"
      ],
      "metadata": {
        "colab": {
          "base_uri": "https://localhost:8080/"
        },
        "id": "i9g5sgc4QX6X",
        "outputId": "6163f7a0-db16-4022-b113-6b4a206dc1c3"
      },
      "execution_count": 89,
      "outputs": [
        {
          "output_type": "stream",
          "name": "stdout",
          "text": [
            "['iPhone: 15' 'price: $900']\n"
          ]
        }
      ]
    },
    {
      "cell_type": "code",
      "source": [
        "array3 = np.array(['a', 'b', 'c'])\n",
        "#  repeat each element in array1 two times\n",
        "result = np.char.multiply(array3, 2)\n",
        "print(result)"
      ],
      "metadata": {
        "colab": {
          "base_uri": "https://localhost:8080/"
        },
        "id": "8zidegFgQjSQ",
        "outputId": "7aa1dc22-62c2-4f1f-a35b-7bbffbd474fa"
      },
      "execution_count": 90,
      "outputs": [
        {
          "output_type": "stream",
          "name": "stdout",
          "text": [
            "['aa' 'bb' 'cc']\n"
          ]
        }
      ]
    },
    {
      "cell_type": "code",
      "source": [
        "# capitalize the first letter of each string in array1\n",
        "result = np.char.capitalize(array3)\n",
        "print(result)"
      ],
      "metadata": {
        "colab": {
          "base_uri": "https://localhost:8080/"
        },
        "id": "gY8eBr95QyXK",
        "outputId": "0ef9b2c5-ddae-457a-86ad-6df51ee01aba"
      },
      "execution_count": 91,
      "outputs": [
        {
          "output_type": "stream",
          "name": "stdout",
          "text": [
            "['A' 'B' 'C']\n"
          ]
        }
      ]
    },
    {
      "cell_type": "code",
      "source": [
        "array4 = np.array(['nEpalI', 'AmeriCAN', 'CaNadIan'])\n",
        "# convert all string elements to uppercase\n",
        "result1 = np.char.upper(array4)\n",
        "# convert all string elements to lowercase\n",
        "result2 = np.char.lower(array4)\n",
        "print(\"To Uppercase: \",result1)\n",
        "print(\"To Lowercase: \",result2)"
      ],
      "metadata": {
        "colab": {
          "base_uri": "https://localhost:8080/"
        },
        "id": "NSblFgXxRFc-",
        "outputId": "20d79939-6096-4546-fe2a-3100c31452c7"
      },
      "execution_count": 92,
      "outputs": [
        {
          "output_type": "stream",
          "name": "stdout",
          "text": [
            "To Uppercase:  ['NEPALI' 'AMERICAN' 'CANADIAN']\n",
            "To Lowercase:  ['nepali' 'american' 'canadian']\n"
          ]
        }
      ]
    },
    {
      "cell_type": "code",
      "source": [
        "# join the strings in the array using a dash as the delimiter\n",
        "result = np.char.join('-', array4)\n",
        "print(result)"
      ],
      "metadata": {
        "colab": {
          "base_uri": "https://localhost:8080/"
        },
        "id": "1cDqEtR-RSOK",
        "outputId": "70853d9f-006a-4ca8-f1d5-59fb051195a1"
      },
      "execution_count": 93,
      "outputs": [
        {
          "output_type": "stream",
          "name": "stdout",
          "text": [
            "['n-E-p-a-l-I' 'A-m-e-r-i-C-A-N' 'C-a-N-a-d-I-a-n']\n"
          ]
        }
      ]
    },
    {
      "cell_type": "code",
      "source": [
        "array5 = np.array(['C', 'Python', 'Swift'])\n",
        "array6 = np.array(['C++', 'Python', 'Java'])\n",
        "# check if each element of the arrays is equal\n",
        "result = np.char.equal(array5, array6)\n",
        "print(result)"
      ],
      "metadata": {
        "colab": {
          "base_uri": "https://localhost:8080/"
        },
        "id": "q9zHBgcfRaM6",
        "outputId": "796861a2-430e-450e-a22f-e9e386ebd661"
      },
      "execution_count": 94,
      "outputs": [
        {
          "output_type": "stream",
          "name": "stdout",
          "text": [
            "[False  True False]\n"
          ]
        }
      ]
    }
  ]
}